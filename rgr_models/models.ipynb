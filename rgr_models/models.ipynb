{
 "cells": [
  {
   "cell_type": "code",
   "execution_count": 223,
   "id": "7bab9b7f",
   "metadata": {},
   "outputs": [],
   "source": [
    "import os\n",
    "file_path = r'C:\\Users\\Жанна\\Desktop\\OMGTU\\ML_RGR\\ML_RGR\\data\\final_data_card_transdata.csv'\n",
    "output_dir = r'C:\\Users\\Жанна\\Desktop\\OMGTU\\ML_RGR\\ML_RGR\\rgr_models'\n",
    "if not os.path.exists(output_dir):\n",
    "    os.makedirs(output_dir)"
   ]
  },
  {
   "cell_type": "code",
   "execution_count": 224,
   "id": "d63fdf8a",
   "metadata": {},
   "outputs": [],
   "source": [
    "import pandas as pd\n",
    "import numpy as np\n",
    "from sklearn.model_selection import train_test_split\n",
    "from sklearn.preprocessing import StandardScaler\n",
    "from sklearn.neighbors import KNeighborsClassifier\n",
    "from sklearn.ensemble import GradientBoostingClassifier, BaggingClassifier, StackingClassifier\n",
    "from sklearn.linear_model import LogisticRegression\n",
    "from sklearn.tree import DecisionTreeClassifier\n",
    "from catboost import CatBoostClassifier\n",
    "from imblearn.over_sampling import SMOTE\n",
    "import tensorflow as tf\n",
    "import pickle\n"
   ]
  },
  {
   "cell_type": "code",
   "execution_count": 225,
   "id": "92a8ffd2",
   "metadata": {},
   "outputs": [],
   "source": [
    "data = pd.read_csv(file_path)\n",
    "y = data[\"fraud\"]\n",
    "X = data.drop([\"fraud\"], axis=1)"
   ]
  },
  {
   "cell_type": "code",
   "execution_count": 226,
   "id": "1f91e451",
   "metadata": {},
   "outputs": [
    {
     "data": {
      "text/html": [
       "<div>\n",
       "<style scoped>\n",
       "    .dataframe tbody tr th:only-of-type {\n",
       "        vertical-align: middle;\n",
       "    }\n",
       "\n",
       "    .dataframe tbody tr th {\n",
       "        vertical-align: top;\n",
       "    }\n",
       "\n",
       "    .dataframe thead th {\n",
       "        text-align: right;\n",
       "    }\n",
       "</style>\n",
       "<table border=\"1\" class=\"dataframe\">\n",
       "  <thead>\n",
       "    <tr style=\"text-align: right;\">\n",
       "      <th></th>\n",
       "      <th>distance_from_home</th>\n",
       "      <th>distance_from_last_transaction</th>\n",
       "      <th>repeat_retailer</th>\n",
       "      <th>used_chip</th>\n",
       "      <th>used_pin_number</th>\n",
       "      <th>online_order</th>\n",
       "      <th>fraud</th>\n",
       "      <th>transaction_speed</th>\n",
       "      <th>secure_online_transaction</th>\n",
       "    </tr>\n",
       "  </thead>\n",
       "  <tbody>\n",
       "    <tr>\n",
       "      <th>count</th>\n",
       "      <td>657984.000000</td>\n",
       "      <td>657984.000000</td>\n",
       "      <td>657984.000000</td>\n",
       "      <td>657984.000000</td>\n",
       "      <td>657984.000000</td>\n",
       "      <td>657984.000000</td>\n",
       "      <td>657984.000000</td>\n",
       "      <td>657984.000000</td>\n",
       "      <td>657984.000000</td>\n",
       "    </tr>\n",
       "    <tr>\n",
       "      <th>mean</th>\n",
       "      <td>14.270848</td>\n",
       "      <td>1.275361</td>\n",
       "      <td>0.914623</td>\n",
       "      <td>0.350671</td>\n",
       "      <td>0.100521</td>\n",
       "      <td>0.650481</td>\n",
       "      <td>0.012351</td>\n",
       "      <td>0.174999</td>\n",
       "      <td>0.022722</td>\n",
       "    </tr>\n",
       "    <tr>\n",
       "      <th>std</th>\n",
       "      <td>13.282287</td>\n",
       "      <td>1.567461</td>\n",
       "      <td>0.279443</td>\n",
       "      <td>0.477181</td>\n",
       "      <td>0.300693</td>\n",
       "      <td>0.476818</td>\n",
       "      <td>0.110448</td>\n",
       "      <td>0.233419</td>\n",
       "      <td>0.149017</td>\n",
       "    </tr>\n",
       "    <tr>\n",
       "      <th>min</th>\n",
       "      <td>0.053961</td>\n",
       "      <td>0.000118</td>\n",
       "      <td>0.000000</td>\n",
       "      <td>0.000000</td>\n",
       "      <td>0.000000</td>\n",
       "      <td>0.000000</td>\n",
       "      <td>0.000000</td>\n",
       "      <td>0.000007</td>\n",
       "      <td>0.000000</td>\n",
       "    </tr>\n",
       "    <tr>\n",
       "      <th>25%</th>\n",
       "      <td>4.342518</td>\n",
       "      <td>0.219989</td>\n",
       "      <td>1.000000</td>\n",
       "      <td>0.000000</td>\n",
       "      <td>0.000000</td>\n",
       "      <td>0.000000</td>\n",
       "      <td>0.000000</td>\n",
       "      <td>0.021420</td>\n",
       "      <td>0.000000</td>\n",
       "    </tr>\n",
       "    <tr>\n",
       "      <th>50%</th>\n",
       "      <td>9.490370</td>\n",
       "      <td>0.641951</td>\n",
       "      <td>1.000000</td>\n",
       "      <td>0.000000</td>\n",
       "      <td>0.000000</td>\n",
       "      <td>1.000000</td>\n",
       "      <td>0.000000</td>\n",
       "      <td>0.074894</td>\n",
       "      <td>0.000000</td>\n",
       "    </tr>\n",
       "    <tr>\n",
       "      <th>75%</th>\n",
       "      <td>20.127328</td>\n",
       "      <td>1.689908</td>\n",
       "      <td>1.000000</td>\n",
       "      <td>1.000000</td>\n",
       "      <td>0.000000</td>\n",
       "      <td>1.000000</td>\n",
       "      <td>0.000000</td>\n",
       "      <td>0.227952</td>\n",
       "      <td>0.000000</td>\n",
       "    </tr>\n",
       "    <tr>\n",
       "      <th>max</th>\n",
       "      <td>58.542735</td>\n",
       "      <td>7.944152</td>\n",
       "      <td>1.000000</td>\n",
       "      <td>1.000000</td>\n",
       "      <td>1.000000</td>\n",
       "      <td>1.000000</td>\n",
       "      <td>1.000000</td>\n",
       "      <td>1.136048</td>\n",
       "      <td>1.000000</td>\n",
       "    </tr>\n",
       "  </tbody>\n",
       "</table>\n",
       "</div>"
      ],
      "text/plain": [
       "       distance_from_home  distance_from_last_transaction  repeat_retailer  \\\n",
       "count       657984.000000                   657984.000000    657984.000000   \n",
       "mean            14.270848                        1.275361         0.914623   \n",
       "std             13.282287                        1.567461         0.279443   \n",
       "min              0.053961                        0.000118         0.000000   \n",
       "25%              4.342518                        0.219989         1.000000   \n",
       "50%              9.490370                        0.641951         1.000000   \n",
       "75%             20.127328                        1.689908         1.000000   \n",
       "max             58.542735                        7.944152         1.000000   \n",
       "\n",
       "           used_chip  used_pin_number   online_order          fraud  \\\n",
       "count  657984.000000    657984.000000  657984.000000  657984.000000   \n",
       "mean        0.350671         0.100521       0.650481       0.012351   \n",
       "std         0.477181         0.300693       0.476818       0.110448   \n",
       "min         0.000000         0.000000       0.000000       0.000000   \n",
       "25%         0.000000         0.000000       0.000000       0.000000   \n",
       "50%         0.000000         0.000000       1.000000       0.000000   \n",
       "75%         1.000000         0.000000       1.000000       0.000000   \n",
       "max         1.000000         1.000000       1.000000       1.000000   \n",
       "\n",
       "       transaction_speed  secure_online_transaction  \n",
       "count      657984.000000              657984.000000  \n",
       "mean            0.174999                   0.022722  \n",
       "std             0.233419                   0.149017  \n",
       "min             0.000007                   0.000000  \n",
       "25%             0.021420                   0.000000  \n",
       "50%             0.074894                   0.000000  \n",
       "75%             0.227952                   0.000000  \n",
       "max             1.136048                   1.000000  "
      ]
     },
     "execution_count": 226,
     "metadata": {},
     "output_type": "execute_result"
    }
   ],
   "source": [
    "data.describe()"
   ]
  },
  {
   "cell_type": "code",
   "execution_count": 227,
   "id": "e3729a08",
   "metadata": {},
   "outputs": [],
   "source": [
    "smote = SMOTE(random_state=42)\n",
    "X_balanced, y_balanced = smote.fit_resample(X, y)"
   ]
  },
  {
   "cell_type": "code",
   "execution_count": 228,
   "id": "02bef888",
   "metadata": {},
   "outputs": [
    {
     "data": {
      "text/plain": [
       "fraud\n",
       "0    0.5\n",
       "1    0.5\n",
       "Name: proportion, dtype: float64"
      ]
     },
     "execution_count": 228,
     "metadata": {},
     "output_type": "execute_result"
    }
   ],
   "source": [
    "y_balanced.value_counts(normalize=True)"
   ]
  },
  {
   "cell_type": "code",
   "execution_count": 229,
   "id": "8aab7ef6",
   "metadata": {},
   "outputs": [],
   "source": [
    "X_train, X_test, y_train, y_test = train_test_split(X_balanced, y_balanced, test_size=0.2, stratify=y_balanced, random_state=42)"
   ]
  },
  {
   "cell_type": "code",
   "execution_count": 230,
   "id": "a68e7e3f",
   "metadata": {},
   "outputs": [],
   "source": [
    "scaler = StandardScaler()\n",
    "X_train_scaled = scaler.fit_transform(X_train)\n",
    "X_test_scaled = scaler.transform(X_test)"
   ]
  },
  {
   "cell_type": "code",
   "execution_count": 231,
   "id": "6651a153",
   "metadata": {},
   "outputs": [],
   "source": [
    "with open(os.path.join(output_dir, 'scaler.pkl'), 'wb') as f:\n",
    "    pickle.dump(scaler, f)"
   ]
  },
  {
   "cell_type": "code",
   "execution_count": 232,
   "id": "4a42b897",
   "metadata": {},
   "outputs": [],
   "source": [
    "def model_already_saved(model_name, method='pickle'):\n",
    "    model_path = os.path.join(output_dir, f'{model_name}.{method}' if method != 'tensorflow' else f'{model_name}.keras')\n",
    "    return os.path.exists(model_path)\n",
    "\n",
    "def save_model(model, model_name, method='pickle'):\n",
    "    model_path = os.path.join(output_dir, f'{model_name}.{method}' if method != 'tensorflow' else f'{model_name}.keras')\n",
    "    \n",
    "    if os.path.exists(model_path): return\n",
    "    \n",
    "    if method == 'pickle':\n",
    "        with open(model_path, 'wb') as f:\n",
    "            pickle.dump(model, f)\n",
    "    elif method == 'catboost':\n",
    "        model.save_model(model_path)\n",
    "    elif method == 'tensorflow':\n",
    "        model.save(model_path)"
   ]
  },
  {
   "cell_type": "code",
   "execution_count": 233,
   "id": "cb161a15",
   "metadata": {},
   "outputs": [
    {
     "name": "stdout",
     "output_type": "stream",
     "text": [
      "2.19.0\n"
     ]
    }
   ],
   "source": [
    "import tensorflow as tf\n",
    "print(tf.__version__)"
   ]
  },
  {
   "cell_type": "code",
   "execution_count": 234,
   "id": "ab8754e2",
   "metadata": {},
   "outputs": [],
   "source": [
    "if not model_already_saved('knn_manhattan', method='pickle'):\n",
    "    knn = KNeighborsClassifier(n_neighbors=7, metric='manhattan', weights='distance')\n",
    "    knn.fit(X_train_scaled, y_train)\n",
    "    save_model(knn, 'knn_manhattan', method='pickle')"
   ]
  },
  {
   "cell_type": "code",
   "execution_count": 235,
   "id": "000b9078",
   "metadata": {},
   "outputs": [],
   "source": [
    "if not model_already_saved('gradient_boosting', method='pickle'):\n",
    "    gbc = GradientBoostingClassifier(n_estimators=50, learning_rate=0.2, min_samples_leaf=5, max_depth=7, random_state=42)\n",
    "    gbc.fit(X_train_scaled, y_train)\n",
    "    save_model(gbc, 'gradient_boosting', method='pickle')"
   ]
  },
  {
   "cell_type": "code",
   "execution_count": 236,
   "id": "7d39cc3a",
   "metadata": {},
   "outputs": [],
   "source": [
    "if not model_already_saved('catboost', method='catboost'):\n",
    "    catboost = CatBoostClassifier(iterations=200, depth=7, learning_rate=0.2, random_state=42)\n",
    "    catboost.fit(X_train_scaled, y_train)\n",
    "    save_model(catboost, 'catboost', method='catboost')"
   ]
  },
  {
   "cell_type": "code",
   "execution_count": 237,
   "id": "c4c4daea",
   "metadata": {},
   "outputs": [],
   "source": [
    "if not model_already_saved('bagging', method='pickle'):\n",
    "    bagging = BaggingClassifier(\n",
    "        estimator=DecisionTreeClassifier(max_depth=5, random_state=42),\n",
    "        n_estimators=10, max_samples=0.5, max_features=0.8, random_state=42\n",
    "    )\n",
    "    bagging.fit(X_train_scaled, y_train)\n",
    "    save_model(bagging, 'bagging', method='pickle')"
   ]
  },
  {
   "cell_type": "code",
   "execution_count": 238,
   "id": "58522ab6",
   "metadata": {},
   "outputs": [],
   "source": [
    "if not model_already_saved('stacking', method='pickle'):\n",
    "    base_learners = [\n",
    "        ('dtc', DecisionTreeClassifier(max_depth=10, min_samples_split=20, random_state=42)),\n",
    "        ('gbc', GradientBoostingClassifier(n_estimators=50, max_depth=7, learning_rate=0.2, min_samples_leaf=5, random_state=42))\n",
    "    ]\n",
    "    meta_model = LogisticRegression()\n",
    "    stacking = StackingClassifier(estimators=base_learners, final_estimator=meta_model, cv=5, n_jobs=-1)\n",
    "    stacking.fit(X_train_scaled, y_train)\n",
    "    save_model(stacking, 'stacking', method='pickle')"
   ]
  },
  {
   "cell_type": "code",
   "execution_count": 239,
   "id": "e98c224b",
   "metadata": {},
   "outputs": [
    {
     "name": "stderr",
     "output_type": "stream",
     "text": [
      "c:\\Users\\Жанна\\Desktop\\OMGTU\\ML_RGR\\ML_RGR\\venv\\Lib\\site-packages\\keras\\src\\layers\\core\\dense.py:87: UserWarning: Do not pass an `input_shape`/`input_dim` argument to a layer. When using Sequential models, prefer using an `Input(shape)` object as the first layer in the model instead.\n",
      "  super().__init__(activity_regularizer=activity_regularizer, **kwargs)\n"
     ]
    },
    {
     "name": "stdout",
     "output_type": "stream",
     "text": [
      "Epoch 1/10\n",
      "\u001b[1m25995/25995\u001b[0m \u001b[32m━━━━━━━━━━━━━━━━━━━━\u001b[0m\u001b[37m\u001b[0m \u001b[1m44s\u001b[0m 2ms/step - accuracy: 0.6979 - loss: 0.5336 - val_accuracy: 0.7020 - val_loss: 0.5274\n",
      "Epoch 2/10\n",
      "\u001b[1m25995/25995\u001b[0m \u001b[32m━━━━━━━━━━━━━━━━━━━━\u001b[0m\u001b[37m\u001b[0m \u001b[1m43s\u001b[0m 2ms/step - accuracy: 0.7014 - loss: 0.5282 - val_accuracy: 0.7020 - val_loss: 0.5274\n",
      "Epoch 3/10\n",
      "\u001b[1m25995/25995\u001b[0m \u001b[32m━━━━━━━━━━━━━━━━━━━━\u001b[0m\u001b[37m\u001b[0m \u001b[1m45s\u001b[0m 2ms/step - accuracy: 0.7025 - loss: 0.5272 - val_accuracy: 0.7021 - val_loss: 0.5274\n",
      "Epoch 4/10\n",
      "\u001b[1m25995/25995\u001b[0m \u001b[32m━━━━━━━━━━━━━━━━━━━━\u001b[0m\u001b[37m\u001b[0m \u001b[1m44s\u001b[0m 2ms/step - accuracy: 0.7015 - loss: 0.5276 - val_accuracy: 0.7016 - val_loss: 0.5274\n",
      "Epoch 5/10\n",
      "\u001b[1m25995/25995\u001b[0m \u001b[32m━━━━━━━━━━━━━━━━━━━━\u001b[0m\u001b[37m\u001b[0m \u001b[1m45s\u001b[0m 2ms/step - accuracy: 0.7013 - loss: 0.5282 - val_accuracy: 0.7023 - val_loss: 0.5271\n",
      "Epoch 6/10\n",
      "\u001b[1m25995/25995\u001b[0m \u001b[32m━━━━━━━━━━━━━━━━━━━━\u001b[0m\u001b[37m\u001b[0m \u001b[1m44s\u001b[0m 2ms/step - accuracy: 0.7020 - loss: 0.5276 - val_accuracy: 0.7022 - val_loss: 0.5272\n",
      "Epoch 7/10\n",
      "\u001b[1m25995/25995\u001b[0m \u001b[32m━━━━━━━━━━━━━━━━━━━━\u001b[0m\u001b[37m\u001b[0m \u001b[1m44s\u001b[0m 2ms/step - accuracy: 0.7014 - loss: 0.5278 - val_accuracy: 0.7022 - val_loss: 0.5270\n",
      "Epoch 8/10\n",
      "\u001b[1m25995/25995\u001b[0m \u001b[32m━━━━━━━━━━━━━━━━━━━━\u001b[0m\u001b[37m\u001b[0m \u001b[1m44s\u001b[0m 2ms/step - accuracy: 0.7026 - loss: 0.5272 - val_accuracy: 0.7024 - val_loss: 0.5270\n",
      "Epoch 9/10\n",
      "\u001b[1m25995/25995\u001b[0m \u001b[32m━━━━━━━━━━━━━━━━━━━━\u001b[0m\u001b[37m\u001b[0m \u001b[1m42s\u001b[0m 2ms/step - accuracy: 0.7017 - loss: 0.5276 - val_accuracy: 0.7022 - val_loss: 0.5272\n",
      "Epoch 10/10\n",
      "\u001b[1m25995/25995\u001b[0m \u001b[32m━━━━━━━━━━━━━━━━━━━━\u001b[0m\u001b[37m\u001b[0m \u001b[1m44s\u001b[0m 2ms/step - accuracy: 0.7018 - loss: 0.5271 - val_accuracy: 0.7026 - val_loss: 0.5269\n"
     ]
    }
   ],
   "source": [
    "if not model_already_saved('neural_network', method='tensorflow'):\n",
    "    model_nn = tf.keras.Sequential([\n",
    "        tf.keras.layers.Dense(64, activation='relu', input_shape=(X_train_scaled.shape[1],)),\n",
    "        tf.keras.layers.Dropout(0.3),\n",
    "        tf.keras.layers.Dense(32, activation='relu'),\n",
    "        tf.keras.layers.Dropout(0.3),\n",
    "        tf.keras.layers.Dense(1, activation='sigmoid')\n",
    "    ])\n",
    "    model_nn.compile(optimizer='adam', loss='binary_crossentropy', metrics=['accuracy'])\n",
    "    model_nn.fit(X_train_scaled, y_train, epochs=10, batch_size=32, validation_split=0.2, verbose=1)\n",
    "    save_model(model_nn, 'neural_network', method='tensorflow')"
   ]
  }
 ],
 "metadata": {
  "kernelspec": {
   "display_name": "venv",
   "language": "python",
   "name": "python3"
  },
  "language_info": {
   "codemirror_mode": {
    "name": "ipython",
    "version": 3
   },
   "file_extension": ".py",
   "mimetype": "text/x-python",
   "name": "python",
   "nbconvert_exporter": "python",
   "pygments_lexer": "ipython3",
   "version": "3.11.5"
  }
 },
 "nbformat": 4,
 "nbformat_minor": 5
}
